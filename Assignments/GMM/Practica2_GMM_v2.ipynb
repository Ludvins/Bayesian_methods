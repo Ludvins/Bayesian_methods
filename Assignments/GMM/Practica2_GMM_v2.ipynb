{
 "cells": [
  {
   "cell_type": "code",
   "execution_count": 1,
   "metadata": {},
   "outputs": [],
   "source": [
    "import numpy as np\n",
    "from sklearn.datasets import make_blobs\n",
    "import matplotlib.pyplot as plt\n",
    "import scipy \n",
    "import matplotlib as mpl\n",
    "from gmm import GaussianMixture\n",
    "from PIL import Image\n",
    "from IPython.display import Image as Img\n",
    "%matplotlib inline\n",
    "%load_ext autoreload\n",
    "%autoreload 2"
   ]
  },
  {
   "cell_type": "markdown",
   "metadata": {},
   "source": [
    "# Practica Mixtura de Gausianas\n",
    "Se debe implementar un modelo de mixtura de gausianas mediante el algoritmo de esperanza-maximización (EM). Este modelo se utiliza para estimar una densidad de probabilidad a partir de $N$ puntos en $D$ dimensiones, $\\mathcal{D}=\\{\\mathbf{x}_i\\}_{i=1}^N$, basado en $K$ gausianas\n",
    "\n",
    "$$    p(\\mathbf{X}) = \\sum_{k=1}^K \\pi_k \\mathcal{N} (\\mathbf{X}; \\mathbf{\\mu_k}, \\Sigma_k) $$\n",
    "\n",
    "donde $\\pi_k$ es la probabilidad de observar un punto en la gausiana $k$ con $\\sum_k=1^K \\pi_k = 1$ y $\\mathbf{\\mu_k}, \\Sigma_k$ son la media y la matriz de covarianza respectivamente de la gausiana $k$.\n",
    "\n",
    "Para resolver este problema vamos a plantearlo con la siguiente red de bayes:\n",
    "\n",
    "<p align=\"center\">\n",
    "  <img width=\"460\" height=\"300\" src=\"gmm.svg\">\n",
    "</p>\n",
    "\n",
    "donde la variable $\\mathbf{Z}$ indica la gausiana a la que pertenece cada dato codificado como 1-en-K, esto es, $\\mathbf{Z}$ es un vector binario de K componenete donde una y solo una vale 1 y el resto 0. Si $z_{ik}=1$ entonces el ejemplo $\\mathbf{X}_i$ pertence a la gausiana $k$. Donde \n",
    "\n",
    "$$ p(\\mathbf{X}) = \\sum_{k=1}^K p(z_k=1) p(\\mathbf{X}|z_k=1) $$\n",
    "\n",
    "donde $p(z_k=1)=\\pi_k$ y $p(\\mathbf{X}|z_k=1) =  \\mathcal{N} (\\mathbf{X}; \\mathbf{\\mu_k}, \\Sigma_k) $.\n",
    "\n",
    "Para aplicar el algoritmo EM tenemos que la variable no observada es la $\\mathbf{Z}$ para todos los ejemplos, por lo que en el paso E debemos estimar la probabilidad de observar 1 para cada uno de las $K$ entradas en $Z$ para cada uno de los ejemplos en $\\mathcal{D}$. En el paso E, estimaremos $D \\times K$ valores como\n",
    "\n",
    "<u>Paso E:</u>\n",
    "\n",
    "$$ q_i(z_k=1) = \\frac{p(z_k=1)p(\\mathbf{X}|z_k=1)}{\\sum_{k=1}^K p(z_k=1)p(\\mathbf{X}|z_k=1)} $$\n",
    "\n",
    "En el paso M lo que debemos hacer es estimar los parametros del modelo a partir de los datos como\n",
    "\n",
    "<u>Paso M:</u>\n",
    "\n",
    "$$ \\pi_k = \\frac{1}{N} \\sum_{i=1}^N q_i(z_k=1) $$\n",
    "\n",
    "$$ \\mathbf{\\mu}_k = \\frac{1}{\\sum_{i=1}^N q_i(z_k=1)} \\sum_{i=1}^N q_i(z_k=1) \\mathbf{x}_i $$\n",
    "\n",
    "$$ \\Sigma_k = \\frac{1}{\\sum_{i=1}^N q_i(z_k=1)} \\sum_{i=1}^N q_i(z_k=1) (\\mathbf{x}_i - \\mathbf{\\mu}_k)(\\mathbf{x}_i - \\mathbf{\\mu}_k)^T $$\n",
    "\n",
    "Finalmente la log-verosimilitud de los datos la podemos escribir como\n",
    "\n",
    "$$ \\log P(\\mathbf{X}|\\pi, \\mathbf{\\mu}, \\Sigma) = \\sum_{i=1}^N ln \\left[ \\sum_{k=1}^K \\pi_k \\mathcal{N} (\\mathbf{x}_i; \\mathbf{\\mu_k}, \\Sigma_k)  \\right]$$ \n",
    "\n",
    "### Problemas numéricos\n",
    "En la implementación de este método surgen diversos problemas numéricos\n",
    "- La matriz de covarianza debe ser semi-definida positiva. Para garantizar que las estimaciones que tenemos de la matriz de covatianza lo cumplen se puede añadir un valor pequeño de regularización a la diagonal de la matriz (~1e10-5)\n",
    "- El calculo de los valores de $q$ supone el cálculo de una gausiana y puede darse el caso de que para algún ejemplo y para todo $k$ el valor sea 0. Para evitar esto se puede sumar una cantidad muy pequeña siempre a todos los valores de q antes de normalizar. Adicionalmente se recomienda calcular esta probailidad como log prob y luego uilizar la función np.logsumexp para normalizar en el espacio de logprobs. \n",
    "- Finalmente para evitar problemas numéricos al invertir la matriz de covarianza se recomienda usar la desconposición de Choleski esto es: <tt>covinv = scipy.linalg.cho_solve(scipy.linalg.cho_factor(covariaza), I)</tt>, donde <tt>I</tt> es la matriz identidad\n"
   ]
  },
  {
   "cell_type": "code",
   "execution_count": 2,
   "metadata": {},
   "outputs": [],
   "source": [
    "import matplotlib.transforms as transforms\n",
    "\n",
    "def make_ellipse(cov, mean, ax, n_std=3.0, **kwargs):\n",
    "    \"\"\"\n",
    "        Adaptado de: https://matplotlib.org/stable/gallery/statistics/confidence_ellipse.html\n",
    "        \n",
    "        En kwargs se pueden poner todo tipo de argumentos para dibujar la elipse. Por ejemplo\n",
    "        para que la elipse sea naranja semitransparente con borde rojo sería:\n",
    "            \n",
    "            def make_ellipse(cov, mean, ax, n_std=3.0, facecolor='orange', edgecolor='red', alpha=0.5)\n",
    "            \n",
    "    \"\"\"\n",
    "    \n",
    "    pearson = cov[0, 1]/np.sqrt(cov[0, 0] * cov[1, 1])\n",
    "    # Using a special case to obtain the eigenvalues of this\n",
    "    # two-dimensionl dataset.\n",
    "    ell_radius_x = np.sqrt(1 + pearson)\n",
    "    ell_radius_y = np.sqrt(1 - pearson)\n",
    "    ellipse = mpl.patches.Ellipse((0, 0), width=ell_radius_x * 2, height=ell_radius_y * 2, **kwargs)\n",
    "\n",
    "    # Calculating the stdandard deviation of x from\n",
    "    # the squareroot of the variance and multiplying\n",
    "    # with the given number of standard deviations.\n",
    "    scale_x = np.sqrt(cov[0, 0]) * n_std\n",
    "    mean_x = mean[0]\n",
    "\n",
    "    # calculating the stdandard deviation of y ...\n",
    "    scale_y = np.sqrt(cov[1, 1]) * n_std\n",
    "    mean_y = mean[1]\n",
    "\n",
    "    transf = transforms.Affine2D() \\\n",
    "        .rotate_deg(45) \\\n",
    "        .scale(scale_x, scale_y) \\\n",
    "        .translate(mean_x, mean_y)\n",
    "    \n",
    "    ellipse.set_transform(transf + ax.transData)\n",
    "    \n",
    "    color = kwargs['edgecolor'] if 'edgecolor' in kwargs else 'red'\n",
    "    \n",
    "    ax.scatter(mean_x, mean_y, marker='x', c=color)\n",
    "    \n",
    "    return ax.add_patch(ellipse)"
   ]
  },
  {
   "cell_type": "code",
   "execution_count": 3,
   "metadata": {},
   "outputs": [
    {
     "data": {
      "image/png": "[encoded data removed]",
      "text/plain": [
       "<Figure size 432x288 with 1 Axes>"
      ]
     },
     "metadata": {
      "needs_background": "light"
     },
     "output_type": "display_data"
    }
   ],
   "source": [
    "# Generar datos\n",
    "fig = plt.figure()\n",
    "K=3\n",
    "X, y = make_blobs(100, centers=K)\n",
    "\n",
    "rotate = True\n",
    "transformation = np.array([[1,0],[0,1]])\n",
    "\n",
    "for y_k in np.unique(y):\n",
    "    if rotate:\n",
    "        transformation = np.array([[ (0.2+np.random.rand())*2,  0.5-np.random.rand()], \n",
    "                                   [0.5-np.random.rand(), (0.2+np.random.rand())*2]])\n",
    "        X[y==y_k,:] = np.dot(X[y==y_k,:], transformation)\n",
    "    plt.scatter(X[y==y_k,0], X[y==y_k,1],label=y_k)\n",
    "    make_ellipse(transformation,np.mean(X[y==y_k,:],axis=0), ax=fig.axes[0],facecolor='none',edgecolor='red')\n",
    "    \n",
    "fig.axes[0].axis('equal')\n",
    "_ = plt.legend()\n"
   ]
  },
  {
   "cell_type": "code",
   "execution_count": 4,
   "metadata": {},
   "outputs": [],
   "source": [
    "gmm = GaussianMixture(n_components=3, init_params=\"random\")        \n",
    "#y = gmm.fit_predict(X)"
   ]
  },
  {
   "cell_type": "markdown",
   "metadata": {},
   "source": [
    "#### Visualización de resultados\n",
    "\n",
    "Se debe visualizar los resultados obtenidos. Al menos se debe mostrar las covarianzas y medias finales estimadas (usando make_ellipse) y cómo ha evolucionado la log-verosimilitud de los datos"
   ]
  },
  {
   "cell_type": "code",
   "execution_count": 5,
   "metadata": {
    "scrolled": true
   },
   "outputs": [],
   "source": [
    "# resultados\n",
    "y = gmm.fit_plot(X)"
   ]
  },
  {
   "cell_type": "code",
   "execution_count": 6,
   "metadata": {},
   "outputs": [
    {
     "data": {
      "text/html": [
       "<img src=\"gmm_anim.gif\"/>"
      ],
      "text/plain": [
       "<IPython.core.display.Image object>"
      ]
     },
     "execution_count": 6,
     "metadata": {},
     "output_type": "execute_result"
    }
   ],
   "source": [
    "Img(url=\"gmm_anim.gif\")"
   ]
  }
 ],
 "metadata": {
  "kernelspec": {
   "display_name": "Python 3",
   "language": "python",
   "name": "python3"
  },
  "language_info": {
   "codemirror_mode": {
    "name": "ipython",
    "version": 3
   },
   "file_extension": ".py",
   "mimetype": "text/x-python",
   "name": "python",
   "nbconvert_exporter": "python",
   "pygments_lexer": "ipython3",
   "version": "3.6.12"
  },
  "metadata": {
   "interpreter": {
    "hash": "fa8ed99d33b6de43dea041a4a9885518dd5f81b20c10a7e890c69d99c8fff13b"
   }
  }
 },
 "nbformat": 4,
 "nbformat_minor": 4
}
